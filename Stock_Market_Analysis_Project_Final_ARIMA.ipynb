{
  "nbformat": 4,
  "nbformat_minor": 0,
  "metadata": {
    "colab": {
      "name": "Stock_Market_Analysis_Project_Final_ARIMA.ipynb",
      "provenance": []
    },
    "kernelspec": {
      "name": "python3",
      "display_name": "Python 3"
    },
    "language_info": {
      "name": "python"
    }
  },
  "cells": [
    {
      "cell_type": "code",
      "execution_count": null,
      "metadata": {
        "id": "2LUP55TeFA-m"
      },
      "outputs": [],
      "source": [
        "import pandas as pd\n",
        "import numpy as np\n",
        "import datetime\n",
        "import matplotlib.pyplot as plt"
      ]
    },
    {
      "cell_type": "code",
      "source": [
        "df = pd.read_csv(\"/content/drive/MyDrive/GOOG_train.csv\")"
      ],
      "metadata": {
        "id": "-7pNW_eVGrxS"
      },
      "execution_count": null,
      "outputs": []
    },
    {
      "cell_type": "code",
      "source": [
        "df.tail()"
      ],
      "metadata": {
        "colab": {
          "base_uri": "https://localhost:8080/",
          "height": 206
        },
        "id": "725MvFEJG8G2",
        "outputId": "2208b927-0228-42b9-d8e4-cf28a21ec007"
      },
      "execution_count": null,
      "outputs": [
        {
          "output_type": "execute_result",
          "data": {
            "text/plain": [
              "            Date         Open         High          Low        Close  \\\n",
              "1253  2021-06-03  2395.020020  2409.745117  2382.830078  2404.610107   \n",
              "1254  2021-06-04  2422.520020  2453.858887  2417.770020  2451.760010   \n",
              "1255  2021-06-07  2451.320068  2468.000000  2441.072998  2466.090088   \n",
              "1256  2021-06-08  2479.899902  2494.495117  2468.239990  2482.850098   \n",
              "1257  2021-06-09  2499.500000  2505.000000  2487.330078  2491.399902   \n",
              "\n",
              "        Adj Close   Volume  \n",
              "1253  2404.610107   917300  \n",
              "1254  2451.760010  1297400  \n",
              "1255  2466.090088  1192500  \n",
              "1256  2482.850098  1253000  \n",
              "1257  2491.399902  1006300  "
            ],
            "text/html": [
              "\n",
              "  <div id=\"df-5650cdcc-d545-4cff-996f-df8c177c2960\">\n",
              "    <div class=\"colab-df-container\">\n",
              "      <div>\n",
              "<style scoped>\n",
              "    .dataframe tbody tr th:only-of-type {\n",
              "        vertical-align: middle;\n",
              "    }\n",
              "\n",
              "    .dataframe tbody tr th {\n",
              "        vertical-align: top;\n",
              "    }\n",
              "\n",
              "    .dataframe thead th {\n",
              "        text-align: right;\n",
              "    }\n",
              "</style>\n",
              "<table border=\"1\" class=\"dataframe\">\n",
              "  <thead>\n",
              "    <tr style=\"text-align: right;\">\n",
              "      <th></th>\n",
              "      <th>Date</th>\n",
              "      <th>Open</th>\n",
              "      <th>High</th>\n",
              "      <th>Low</th>\n",
              "      <th>Close</th>\n",
              "      <th>Adj Close</th>\n",
              "      <th>Volume</th>\n",
              "    </tr>\n",
              "  </thead>\n",
              "  <tbody>\n",
              "    <tr>\n",
              "      <th>1253</th>\n",
              "      <td>2021-06-03</td>\n",
              "      <td>2395.020020</td>\n",
              "      <td>2409.745117</td>\n",
              "      <td>2382.830078</td>\n",
              "      <td>2404.610107</td>\n",
              "      <td>2404.610107</td>\n",
              "      <td>917300</td>\n",
              "    </tr>\n",
              "    <tr>\n",
              "      <th>1254</th>\n",
              "      <td>2021-06-04</td>\n",
              "      <td>2422.520020</td>\n",
              "      <td>2453.858887</td>\n",
              "      <td>2417.770020</td>\n",
              "      <td>2451.760010</td>\n",
              "      <td>2451.760010</td>\n",
              "      <td>1297400</td>\n",
              "    </tr>\n",
              "    <tr>\n",
              "      <th>1255</th>\n",
              "      <td>2021-06-07</td>\n",
              "      <td>2451.320068</td>\n",
              "      <td>2468.000000</td>\n",
              "      <td>2441.072998</td>\n",
              "      <td>2466.090088</td>\n",
              "      <td>2466.090088</td>\n",
              "      <td>1192500</td>\n",
              "    </tr>\n",
              "    <tr>\n",
              "      <th>1256</th>\n",
              "      <td>2021-06-08</td>\n",
              "      <td>2479.899902</td>\n",
              "      <td>2494.495117</td>\n",
              "      <td>2468.239990</td>\n",
              "      <td>2482.850098</td>\n",
              "      <td>2482.850098</td>\n",
              "      <td>1253000</td>\n",
              "    </tr>\n",
              "    <tr>\n",
              "      <th>1257</th>\n",
              "      <td>2021-06-09</td>\n",
              "      <td>2499.500000</td>\n",
              "      <td>2505.000000</td>\n",
              "      <td>2487.330078</td>\n",
              "      <td>2491.399902</td>\n",
              "      <td>2491.399902</td>\n",
              "      <td>1006300</td>\n",
              "    </tr>\n",
              "  </tbody>\n",
              "</table>\n",
              "</div>\n",
              "      <button class=\"colab-df-convert\" onclick=\"convertToInteractive('df-5650cdcc-d545-4cff-996f-df8c177c2960')\"\n",
              "              title=\"Convert this dataframe to an interactive table.\"\n",
              "              style=\"display:none;\">\n",
              "        \n",
              "  <svg xmlns=\"http://www.w3.org/2000/svg\" height=\"24px\"viewBox=\"0 0 24 24\"\n",
              "       width=\"24px\">\n",
              "    <path d=\"M0 0h24v24H0V0z\" fill=\"none\"/>\n",
              "    <path d=\"M18.56 5.44l.94 2.06.94-2.06 2.06-.94-2.06-.94-.94-2.06-.94 2.06-2.06.94zm-11 1L8.5 8.5l.94-2.06 2.06-.94-2.06-.94L8.5 2.5l-.94 2.06-2.06.94zm10 10l.94 2.06.94-2.06 2.06-.94-2.06-.94-.94-2.06-.94 2.06-2.06.94z\"/><path d=\"M17.41 7.96l-1.37-1.37c-.4-.4-.92-.59-1.43-.59-.52 0-1.04.2-1.43.59L10.3 9.45l-7.72 7.72c-.78.78-.78 2.05 0 2.83L4 21.41c.39.39.9.59 1.41.59.51 0 1.02-.2 1.41-.59l7.78-7.78 2.81-2.81c.8-.78.8-2.07 0-2.86zM5.41 20L4 18.59l7.72-7.72 1.47 1.35L5.41 20z\"/>\n",
              "  </svg>\n",
              "      </button>\n",
              "      \n",
              "  <style>\n",
              "    .colab-df-container {\n",
              "      display:flex;\n",
              "      flex-wrap:wrap;\n",
              "      gap: 12px;\n",
              "    }\n",
              "\n",
              "    .colab-df-convert {\n",
              "      background-color: #E8F0FE;\n",
              "      border: none;\n",
              "      border-radius: 50%;\n",
              "      cursor: pointer;\n",
              "      display: none;\n",
              "      fill: #1967D2;\n",
              "      height: 32px;\n",
              "      padding: 0 0 0 0;\n",
              "      width: 32px;\n",
              "    }\n",
              "\n",
              "    .colab-df-convert:hover {\n",
              "      background-color: #E2EBFA;\n",
              "      box-shadow: 0px 1px 2px rgba(60, 64, 67, 0.3), 0px 1px 3px 1px rgba(60, 64, 67, 0.15);\n",
              "      fill: #174EA6;\n",
              "    }\n",
              "\n",
              "    [theme=dark] .colab-df-convert {\n",
              "      background-color: #3B4455;\n",
              "      fill: #D2E3FC;\n",
              "    }\n",
              "\n",
              "    [theme=dark] .colab-df-convert:hover {\n",
              "      background-color: #434B5C;\n",
              "      box-shadow: 0px 1px 3px 1px rgba(0, 0, 0, 0.15);\n",
              "      filter: drop-shadow(0px 1px 2px rgba(0, 0, 0, 0.3));\n",
              "      fill: #FFFFFF;\n",
              "    }\n",
              "  </style>\n",
              "\n",
              "      <script>\n",
              "        const buttonEl =\n",
              "          document.querySelector('#df-5650cdcc-d545-4cff-996f-df8c177c2960 button.colab-df-convert');\n",
              "        buttonEl.style.display =\n",
              "          google.colab.kernel.accessAllowed ? 'block' : 'none';\n",
              "\n",
              "        async function convertToInteractive(key) {\n",
              "          const element = document.querySelector('#df-5650cdcc-d545-4cff-996f-df8c177c2960');\n",
              "          const dataTable =\n",
              "            await google.colab.kernel.invokeFunction('convertToInteractive',\n",
              "                                                     [key], {});\n",
              "          if (!dataTable) return;\n",
              "\n",
              "          const docLinkHtml = 'Like what you see? Visit the ' +\n",
              "            '<a target=\"_blank\" href=https://colab.research.google.com/notebooks/data_table.ipynb>data table notebook</a>'\n",
              "            + ' to learn more about interactive tables.';\n",
              "          element.innerHTML = '';\n",
              "          dataTable['output_type'] = 'display_data';\n",
              "          await google.colab.output.renderOutput(dataTable, element);\n",
              "          const docLink = document.createElement('div');\n",
              "          docLink.innerHTML = docLinkHtml;\n",
              "          element.appendChild(docLink);\n",
              "        }\n",
              "      </script>\n",
              "    </div>\n",
              "  </div>\n",
              "  "
            ]
          },
          "metadata": {},
          "execution_count": 91
        }
      ]
    },
    {
      "cell_type": "code",
      "source": [
        "df = df[\"Close\"]\n",
        "df.describe()"
      ],
      "metadata": {
        "colab": {
          "base_uri": "https://localhost:8080/"
        },
        "id": "Zu4wvTvaH1Zn",
        "outputId": "30619af5-1170-4637-e2a9-35cbfc901c1a"
      },
      "execution_count": null,
      "outputs": [
        {
          "output_type": "execute_result",
          "data": {
            "text/plain": [
              "count    1258.000000\n",
              "mean     1213.457483\n",
              "std       380.308660\n",
              "min       668.260010\n",
              "25%       958.119980\n",
              "50%      1132.005005\n",
              "75%      1358.957519\n",
              "max      2491.399902\n",
              "Name: Close, dtype: float64"
            ]
          },
          "metadata": {},
          "execution_count": 92
        }
      ]
    },
    {
      "cell_type": "markdown",
      "source": [
        "**Stationarity**\\\n",
        "Subtract the previous value from the current value. Now if we just difference once, we might not get a stationary series so we might need to do that multiple\n",
        "times.\n",
        "And the minimum number of differencing operations needed to make the series stationary needs to be imputed into our ARIMA model.\n",
        "\n",
        "**ADF test**\\\n",
        "We'll use the Augumented Dickey Fuller (ADF) test to check if the price series is stationary.\n",
        "The null hypothesis of the ADF test is that the time series is non-stationary. So, if the p-value of the test is less than the significance level (0.05) then we can\n",
        "reject the null hypothesis and infer that the time series is indeed stationary.\n",
        "So, in our case, if the p-value > 0.05 we'll need to find the order of differencing."
      ],
      "metadata": {
        "id": "IgbFV5ChHbdu"
      }
    },
    {
      "cell_type": "code",
      "source": [
        "from statsmodels.tsa.stattools import adfuller\n",
        "\n",
        "result = adfuller(df.dropna())\n",
        "print(\"ADF Statistics:\", result[0])\n",
        "print(\"p Value\", result[1])"
      ],
      "metadata": {
        "colab": {
          "base_uri": "https://localhost:8080/"
        },
        "id": "IpcKQHUsIBrV",
        "outputId": "2727b760-db67-4bd1-c4b4-90d00d2bc1df"
      },
      "execution_count": null,
      "outputs": [
        {
          "output_type": "stream",
          "name": "stdout",
          "text": [
            "ADF Statistics: 1.9368159937737082\n",
            "p Value 0.9985850027950328\n"
          ]
        }
      ]
    },
    {
      "cell_type": "code",
      "source": [
        "# Now to make data Stationary we subtract previous value from current till we get p < 0.05 \n",
        "# To find out how many times we need to repeat the above step we use pmdarima\n",
        "!pip install pmdarima"
      ],
      "metadata": {
        "id": "LHUEt5LxJ7_P",
        "colab": {
          "base_uri": "https://localhost:8080/"
        },
        "outputId": "af6c65bb-5478-458d-ce2f-bb4b237d6b16"
      },
      "execution_count": null,
      "outputs": [
        {
          "output_type": "stream",
          "name": "stdout",
          "text": [
            "Looking in indexes: https://pypi.org/simple, https://us-python.pkg.dev/colab-wheels/public/simple/\n",
            "Requirement already satisfied: pmdarima in /usr/local/lib/python3.7/dist-packages (1.8.5)\n",
            "Requirement already satisfied: setuptools!=50.0.0,>=38.6.0 in /usr/local/lib/python3.7/dist-packages (from pmdarima) (57.4.0)\n",
            "Requirement already satisfied: scipy>=1.3.2 in /usr/local/lib/python3.7/dist-packages (from pmdarima) (1.7.3)\n",
            "Requirement already satisfied: statsmodels!=0.12.0,>=0.11 in /usr/local/lib/python3.7/dist-packages (from pmdarima) (0.13.2)\n",
            "Requirement already satisfied: Cython!=0.29.18,>=0.29 in /usr/local/lib/python3.7/dist-packages (from pmdarima) (0.29.30)\n",
            "Requirement already satisfied: urllib3 in /usr/local/lib/python3.7/dist-packages (from pmdarima) (1.24.3)\n",
            "Requirement already satisfied: numpy>=1.19.3 in /usr/local/lib/python3.7/dist-packages (from pmdarima) (1.21.6)\n",
            "Requirement already satisfied: scikit-learn>=0.22 in /usr/local/lib/python3.7/dist-packages (from pmdarima) (1.0.2)\n",
            "Requirement already satisfied: joblib>=0.11 in /usr/local/lib/python3.7/dist-packages (from pmdarima) (1.1.0)\n",
            "Requirement already satisfied: pandas>=0.19 in /usr/local/lib/python3.7/dist-packages (from pmdarima) (1.3.5)\n",
            "Requirement already satisfied: pytz>=2017.3 in /usr/local/lib/python3.7/dist-packages (from pandas>=0.19->pmdarima) (2022.1)\n",
            "Requirement already satisfied: python-dateutil>=2.7.3 in /usr/local/lib/python3.7/dist-packages (from pandas>=0.19->pmdarima) (2.8.2)\n",
            "Requirement already satisfied: six>=1.5 in /usr/local/lib/python3.7/dist-packages (from python-dateutil>=2.7.3->pandas>=0.19->pmdarima) (1.15.0)\n",
            "Requirement already satisfied: threadpoolctl>=2.0.0 in /usr/local/lib/python3.7/dist-packages (from scikit-learn>=0.22->pmdarima) (3.1.0)\n",
            "Requirement already satisfied: patsy>=0.5.2 in /usr/local/lib/python3.7/dist-packages (from statsmodels!=0.12.0,>=0.11->pmdarima) (0.5.2)\n",
            "Requirement already satisfied: packaging>=21.3 in /usr/local/lib/python3.7/dist-packages (from statsmodels!=0.12.0,>=0.11->pmdarima) (21.3)\n",
            "Requirement already satisfied: pyparsing!=3.0.5,>=2.0.2 in /usr/local/lib/python3.7/dist-packages (from packaging>=21.3->statsmodels!=0.12.0,>=0.11->pmdarima) (3.0.9)\n"
          ]
        }
      ]
    },
    {
      "cell_type": "code",
      "source": [
        "from pmdarima.arima.utils import ndiffs"
      ],
      "metadata": {
        "id": "sRyefZLCKcme"
      },
      "execution_count": null,
      "outputs": []
    },
    {
      "cell_type": "code",
      "source": [
        "d_value = ndiffs(df,test = \"adf\")\n",
        "print(\"d value:\", d_value)"
      ],
      "metadata": {
        "colab": {
          "base_uri": "https://localhost:8080/"
        },
        "id": "mA-vMrz6KvDR",
        "outputId": "9d5f1b11-90c1-42e2-f14e-50231c8cbcb7"
      },
      "execution_count": null,
      "outputs": [
        {
          "output_type": "stream",
          "name": "stdout",
          "text": [
            "d value: 1\n"
          ]
        }
      ]
    },
    {
      "cell_type": "markdown",
      "source": [
        "**Р-Term**\\\n",
        "p is the order of the Auto Regressive (AR) term. It refers to the number of lags to be used as predictors.\n",
        "We can find out the required number of AR terms by inspecting the Partial Autocorrelation (PACF) plot.\n",
        "The partial autocorrelation represents the correlation between the series and its lags."
      ],
      "metadata": {
        "id": "Fr1LwUPCNg7m"
      }
    },
    {
      "cell_type": "code",
      "source": [
        "from statsmodels.graphics.tsaplots import plot_pacf    #For Partial Auto Co-relation plot"
      ],
      "metadata": {
        "id": "CECNgYnoLnM7"
      },
      "execution_count": null,
      "outputs": []
    },
    {
      "cell_type": "code",
      "source": [
        "Diff = df.diff().dropna()   #As we found d_value is 1 so taking first diff\n",
        "fig, (axl, ax2) = plt.subplots(1, 2, figsize = (16,4))\n",
        "axl.plot(Diff)\n",
        "axl.set_title(\"Difference once\")\n",
        "ax2.set_ylim(0, 1)\n",
        "plot_pacf(Diff, ax=ax2);"
      ],
      "metadata": {
        "colab": {
          "base_uri": "https://localhost:8080/",
          "height": 336
        },
        "id": "VzJ_dsssMVIY",
        "outputId": "b449a9f2-e57f-43fe-99c9-b2e6c5ae5bda"
      },
      "execution_count": null,
      "outputs": [
        {
          "output_type": "stream",
          "name": "stderr",
          "text": [
            "/usr/local/lib/python3.7/dist-packages/statsmodels/graphics/tsaplots.py:353: FutureWarning: The default method 'yw' can produce PACF values outside of the [-1,1] interval. After 0.13, the default will change tounadjusted Yule-Walker ('ywm'). You can use this method now by setting method='ywm'.\n",
            "  FutureWarning,\n"
          ]
        },
        {
          "output_type": "display_data",
          "data": {
            "text/plain": [
              "<Figure size 1152x288 with 2 Axes>"
            ],
            "image/png": "[encoded data removed]"
          },
          "metadata": {
            "needs_background": "light"
          }
        }
      ]
    },
    {
      "cell_type": "code",
      "source": [
        "# So we use the lags 7 as they lie above significance line\n",
        "# we select our q term 2 as it lie below significance line"
      ],
      "metadata": {
        "id": "kCfBKUNpNrVv"
      },
      "execution_count": null,
      "outputs": []
    },
    {
      "cell_type": "code",
      "source": [
        "from statsmodels.tsa.arima.model import ARIMA"
      ],
      "metadata": {
        "id": "oTMwM8FJPKsH"
      },
      "execution_count": null,
      "outputs": []
    },
    {
      "cell_type": "code",
      "source": [
        "model = ARIMA(df, order=(7,1,10))"
      ],
      "metadata": {
        "id": "djEcIzsaP8dj"
      },
      "execution_count": null,
      "outputs": []
    },
    {
      "cell_type": "code",
      "source": [
        "result = model.fit()\n",
        "print(result.summary())"
      ],
      "metadata": {
        "colab": {
          "base_uri": "https://localhost:8080/"
        },
        "id": "-2mimnlTRTpF",
        "outputId": "a52743b3-1869-45cf-81c5-2338d79e8f11"
      },
      "execution_count": null,
      "outputs": [
        {
          "output_type": "stream",
          "name": "stderr",
          "text": [
            "/usr/local/lib/python3.7/dist-packages/statsmodels/base/model.py:606: ConvergenceWarning: Maximum Likelihood optimization failed to converge. Check mle_retvals\n",
            "  ConvergenceWarning)\n"
          ]
        },
        {
          "output_type": "stream",
          "name": "stdout",
          "text": [
            "                               SARIMAX Results                                \n",
            "==============================================================================\n",
            "Dep. Variable:                  Close   No. Observations:                 1258\n",
            "Model:                ARIMA(7, 1, 10)   Log Likelihood               -5629.820\n",
            "Date:                Sat, 16 Jul 2022   AIC                          11295.641\n",
            "Time:                        20:41:32   BIC                          11388.098\n",
            "Sample:                             0   HQIC                         11330.389\n",
            "                               - 1258                                         \n",
            "Covariance Type:                  opg                                         \n",
            "==============================================================================\n",
            "                 coef    std err          z      P>|z|      [0.025      0.975]\n",
            "------------------------------------------------------------------------------\n",
            "ar.L1         -0.8443      1.685     -0.501      0.616      -4.147       2.458\n",
            "ar.L2          0.2658      1.444      0.184      0.854      -2.564       3.096\n",
            "ar.L3         -0.2435      0.774     -0.314      0.753      -1.761       1.274\n",
            "ar.L4         -0.8609      0.228     -3.781      0.000      -1.307      -0.415\n",
            "ar.L5         -0.5500      1.605     -0.343      0.732      -3.697       2.597\n",
            "ar.L6         -0.3851      1.007     -0.383      0.702      -2.358       1.588\n",
            "ar.L7         -0.0982      0.378     -0.260      0.795      -0.839       0.643\n",
            "ma.L1          0.7672      1.683      0.456      0.648      -2.531       4.066\n",
            "ma.L2         -0.3225      1.317     -0.245      0.807      -2.904       2.259\n",
            "ma.L3          0.2882      0.853      0.338      0.736      -1.384       1.960\n",
            "ma.L4          0.8945      0.304      2.942      0.003       0.299       1.490\n",
            "ma.L5          0.4612      1.672      0.276      0.783      -2.816       3.738\n",
            "ma.L6          0.2538      0.860      0.295      0.768      -1.431       1.939\n",
            "ma.L7          0.1802      0.190      0.948      0.343      -0.192       0.553\n",
            "ma.L8          0.0781      0.157      0.498      0.618      -0.229       0.385\n",
            "ma.L9         -0.0620      0.169     -0.366      0.714      -0.394       0.270\n",
            "ma.L10         0.0278      0.138      0.202      0.840      -0.242       0.297\n",
            "sigma2       450.6223     10.195     44.202      0.000     430.641     470.603\n",
            "===================================================================================\n",
            "Ljung-Box (L1) (Q):                   0.02   Jarque-Bera (JB):              1694.54\n",
            "Prob(Q):                              0.89   Prob(JB):                         0.00\n",
            "Heteroskedasticity (H):               8.60   Skew:                            -0.01\n",
            "Prob(H) (two-sided):                  0.00   Kurtosis:                         8.69\n",
            "===================================================================================\n",
            "\n",
            "Warnings:\n",
            "[1] Covariance matrix calculated using the outer product of gradients (complex-step).\n"
          ]
        }
      ]
    },
    {
      "cell_type": "code",
      "source": [
        "from statsmodels.graphics.tsaplots import plot_predict"
      ],
      "metadata": {
        "id": "mr3qlMtFVbQw"
      },
      "execution_count": null,
      "outputs": []
    },
    {
      "cell_type": "code",
      "source": [
        "plot_predict(result, start = 1, end = 253, dynamic = False);"
      ],
      "metadata": {
        "colab": {
          "base_uri": "https://localhost:8080/",
          "height": 265
        },
        "id": "egt5jr4bU9sh",
        "outputId": "0d12adfc-1a3e-4eef-cea9-537c2acef856"
      },
      "execution_count": null,
      "outputs": [
        {
          "output_type": "display_data",
          "data": {
            "text/plain": [
              "<Figure size 432x288 with 1 Axes>"
            ],
            "image/png": "[encoded data removed]"
          },
          "metadata": {
            "needs_background": "light"
          }
        }
      ]
    },
    {
      "cell_type": "code",
      "source": [
        "#Now lets Forecast\n",
        "steps = 253\n",
        "fc = result.forecast(steps)"
      ],
      "metadata": {
        "id": "G_UdLs50XEmW"
      },
      "execution_count": null,
      "outputs": []
    },
    {
      "cell_type": "code",
      "source": [
        "test = pd.read_csv(\"/content/drive/MyDrive/GOOG_test.csv\")\n",
        "test "
      ],
      "metadata": {
        "colab": {
          "base_uri": "https://localhost:8080/",
          "height": 424
        },
        "id": "bPtUzqWcZ0Ac",
        "outputId": "a927a94f-da13-42a7-ee11-cfa258357639"
      },
      "execution_count": null,
      "outputs": [
        {
          "output_type": "execute_result",
          "data": {
            "text/plain": [
              "           Date         Open         High          Low        Close  \\\n",
              "0    2021-06-10  2494.010010  2523.260010  2494.000000  2521.600098   \n",
              "1    2021-06-11  2524.919922  2526.989990  2498.290039  2513.929932   \n",
              "2    2021-06-14  2513.389893  2528.229980  2500.939941  2527.040039   \n",
              "3    2021-06-15  2530.439941  2537.239990  2512.969971  2520.659912   \n",
              "4    2021-06-16  2524.949951  2530.469971  2482.999023  2513.929932   \n",
              "..          ...          ...          ...          ...          ...   \n",
              "248  2022-06-03  2319.850098  2327.290039  2273.360107  2291.280029   \n",
              "249  2022-06-06  2334.850098  2387.969971  2330.565918  2340.209961   \n",
              "250  2022-06-07  2312.959961  2354.972900  2302.510010  2344.590088   \n",
              "251  2022-06-08  2337.530029  2372.919922  2333.935059  2344.760010   \n",
              "252  2022-06-09  2326.830078  2367.000000  2297.340088  2298.360107   \n",
              "\n",
              "       Adj Close   Volume  \n",
              "0    2521.600098  1561700  \n",
              "1    2513.929932  1262000  \n",
              "2    2527.040039  1127500  \n",
              "3    2520.659912  1109100  \n",
              "4    2513.929932  1315800  \n",
              "..           ...      ...  \n",
              "248  2291.280029  1252600  \n",
              "249  2340.209961  1189300  \n",
              "250  2344.590088  1320700  \n",
              "251  2344.760010  1127200  \n",
              "252  2298.360107  1157100  \n",
              "\n",
              "[253 rows x 7 columns]"
            ],
            "text/html": [
              "\n",
              "  <div id=\"df-4d3a14d6-aff2-4e61-a010-d1238e998b24\">\n",
              "    <div class=\"colab-df-container\">\n",
              "      <div>\n",
              "<style scoped>\n",
              "    .dataframe tbody tr th:only-of-type {\n",
              "        vertical-align: middle;\n",
              "    }\n",
              "\n",
              "    .dataframe tbody tr th {\n",
              "        vertical-align: top;\n",
              "    }\n",
              "\n",
              "    .dataframe thead th {\n",
              "        text-align: right;\n",
              "    }\n",
              "</style>\n",
              "<table border=\"1\" class=\"dataframe\">\n",
              "  <thead>\n",
              "    <tr style=\"text-align: right;\">\n",
              "      <th></th>\n",
              "      <th>Date</th>\n",
              "      <th>Open</th>\n",
              "      <th>High</th>\n",
              "      <th>Low</th>\n",
              "      <th>Close</th>\n",
              "      <th>Adj Close</th>\n",
              "      <th>Volume</th>\n",
              "    </tr>\n",
              "  </thead>\n",
              "  <tbody>\n",
              "    <tr>\n",
              "      <th>0</th>\n",
              "      <td>2021-06-10</td>\n",
              "      <td>2494.010010</td>\n",
              "      <td>2523.260010</td>\n",
              "      <td>2494.000000</td>\n",
              "      <td>2521.600098</td>\n",
              "      <td>2521.600098</td>\n",
              "      <td>1561700</td>\n",
              "    </tr>\n",
              "    <tr>\n",
              "      <th>1</th>\n",
              "      <td>2021-06-11</td>\n",
              "      <td>2524.919922</td>\n",
              "      <td>2526.989990</td>\n",
              "      <td>2498.290039</td>\n",
              "      <td>2513.929932</td>\n",
              "      <td>2513.929932</td>\n",
              "      <td>1262000</td>\n",
              "    </tr>\n",
              "    <tr>\n",
              "      <th>2</th>\n",
              "      <td>2021-06-14</td>\n",
              "      <td>2513.389893</td>\n",
              "      <td>2528.229980</td>\n",
              "      <td>2500.939941</td>\n",
              "      <td>2527.040039</td>\n",
              "      <td>2527.040039</td>\n",
              "      <td>1127500</td>\n",
              "    </tr>\n",
              "    <tr>\n",
              "      <th>3</th>\n",
              "      <td>2021-06-15</td>\n",
              "      <td>2530.439941</td>\n",
              "      <td>2537.239990</td>\n",
              "      <td>2512.969971</td>\n",
              "      <td>2520.659912</td>\n",
              "      <td>2520.659912</td>\n",
              "      <td>1109100</td>\n",
              "    </tr>\n",
              "    <tr>\n",
              "      <th>4</th>\n",
              "      <td>2021-06-16</td>\n",
              "      <td>2524.949951</td>\n",
              "      <td>2530.469971</td>\n",
              "      <td>2482.999023</td>\n",
              "      <td>2513.929932</td>\n",
              "      <td>2513.929932</td>\n",
              "      <td>1315800</td>\n",
              "    </tr>\n",
              "    <tr>\n",
              "      <th>...</th>\n",
              "      <td>...</td>\n",
              "      <td>...</td>\n",
              "      <td>...</td>\n",
              "      <td>...</td>\n",
              "      <td>...</td>\n",
              "      <td>...</td>\n",
              "      <td>...</td>\n",
              "    </tr>\n",
              "    <tr>\n",
              "      <th>248</th>\n",
              "      <td>2022-06-03</td>\n",
              "      <td>2319.850098</td>\n",
              "      <td>2327.290039</td>\n",
              "      <td>2273.360107</td>\n",
              "      <td>2291.280029</td>\n",
              "      <td>2291.280029</td>\n",
              "      <td>1252600</td>\n",
              "    </tr>\n",
              "    <tr>\n",
              "      <th>249</th>\n",
              "      <td>2022-06-06</td>\n",
              "      <td>2334.850098</td>\n",
              "      <td>2387.969971</td>\n",
              "      <td>2330.565918</td>\n",
              "      <td>2340.209961</td>\n",
              "      <td>2340.209961</td>\n",
              "      <td>1189300</td>\n",
              "    </tr>\n",
              "    <tr>\n",
              "      <th>250</th>\n",
              "      <td>2022-06-07</td>\n",
              "      <td>2312.959961</td>\n",
              "      <td>2354.972900</td>\n",
              "      <td>2302.510010</td>\n",
              "      <td>2344.590088</td>\n",
              "      <td>2344.590088</td>\n",
              "      <td>1320700</td>\n",
              "    </tr>\n",
              "    <tr>\n",
              "      <th>251</th>\n",
              "      <td>2022-06-08</td>\n",
              "      <td>2337.530029</td>\n",
              "      <td>2372.919922</td>\n",
              "      <td>2333.935059</td>\n",
              "      <td>2344.760010</td>\n",
              "      <td>2344.760010</td>\n",
              "      <td>1127200</td>\n",
              "    </tr>\n",
              "    <tr>\n",
              "      <th>252</th>\n",
              "      <td>2022-06-09</td>\n",
              "      <td>2326.830078</td>\n",
              "      <td>2367.000000</td>\n",
              "      <td>2297.340088</td>\n",
              "      <td>2298.360107</td>\n",
              "      <td>2298.360107</td>\n",
              "      <td>1157100</td>\n",
              "    </tr>\n",
              "  </tbody>\n",
              "</table>\n",
              "<p>253 rows × 7 columns</p>\n",
              "</div>\n",
              "      <button class=\"colab-df-convert\" onclick=\"convertToInteractive('df-4d3a14d6-aff2-4e61-a010-d1238e998b24')\"\n",
              "              title=\"Convert this dataframe to an interactive table.\"\n",
              "              style=\"display:none;\">\n",
              "        \n",
              "  <svg xmlns=\"http://www.w3.org/2000/svg\" height=\"24px\"viewBox=\"0 0 24 24\"\n",
              "       width=\"24px\">\n",
              "    <path d=\"M0 0h24v24H0V0z\" fill=\"none\"/>\n",
              "    <path d=\"M18.56 5.44l.94 2.06.94-2.06 2.06-.94-2.06-.94-.94-2.06-.94 2.06-2.06.94zm-11 1L8.5 8.5l.94-2.06 2.06-.94-2.06-.94L8.5 2.5l-.94 2.06-2.06.94zm10 10l.94 2.06.94-2.06 2.06-.94-2.06-.94-.94-2.06-.94 2.06-2.06.94z\"/><path d=\"M17.41 7.96l-1.37-1.37c-.4-.4-.92-.59-1.43-.59-.52 0-1.04.2-1.43.59L10.3 9.45l-7.72 7.72c-.78.78-.78 2.05 0 2.83L4 21.41c.39.39.9.59 1.41.59.51 0 1.02-.2 1.41-.59l7.78-7.78 2.81-2.81c.8-.78.8-2.07 0-2.86zM5.41 20L4 18.59l7.72-7.72 1.47 1.35L5.41 20z\"/>\n",
              "  </svg>\n",
              "      </button>\n",
              "      \n",
              "  <style>\n",
              "    .colab-df-container {\n",
              "      display:flex;\n",
              "      flex-wrap:wrap;\n",
              "      gap: 12px;\n",
              "    }\n",
              "\n",
              "    .colab-df-convert {\n",
              "      background-color: #E8F0FE;\n",
              "      border: none;\n",
              "      border-radius: 50%;\n",
              "      cursor: pointer;\n",
              "      display: none;\n",
              "      fill: #1967D2;\n",
              "      height: 32px;\n",
              "      padding: 0 0 0 0;\n",
              "      width: 32px;\n",
              "    }\n",
              "\n",
              "    .colab-df-convert:hover {\n",
              "      background-color: #E2EBFA;\n",
              "      box-shadow: 0px 1px 2px rgba(60, 64, 67, 0.3), 0px 1px 3px 1px rgba(60, 64, 67, 0.15);\n",
              "      fill: #174EA6;\n",
              "    }\n",
              "\n",
              "    [theme=dark] .colab-df-convert {\n",
              "      background-color: #3B4455;\n",
              "      fill: #D2E3FC;\n",
              "    }\n",
              "\n",
              "    [theme=dark] .colab-df-convert:hover {\n",
              "      background-color: #434B5C;\n",
              "      box-shadow: 0px 1px 3px 1px rgba(0, 0, 0, 0.15);\n",
              "      filter: drop-shadow(0px 1px 2px rgba(0, 0, 0, 0.3));\n",
              "      fill: #FFFFFF;\n",
              "    }\n",
              "  </style>\n",
              "\n",
              "      <script>\n",
              "        const buttonEl =\n",
              "          document.querySelector('#df-4d3a14d6-aff2-4e61-a010-d1238e998b24 button.colab-df-convert');\n",
              "        buttonEl.style.display =\n",
              "          google.colab.kernel.accessAllowed ? 'block' : 'none';\n",
              "\n",
              "        async function convertToInteractive(key) {\n",
              "          const element = document.querySelector('#df-4d3a14d6-aff2-4e61-a010-d1238e998b24');\n",
              "          const dataTable =\n",
              "            await google.colab.kernel.invokeFunction('convertToInteractive',\n",
              "                                                     [key], {});\n",
              "          if (!dataTable) return;\n",
              "\n",
              "          const docLinkHtml = 'Like what you see? Visit the ' +\n",
              "            '<a target=\"_blank\" href=https://colab.research.google.com/notebooks/data_table.ipynb>data table notebook</a>'\n",
              "            + ' to learn more about interactive tables.';\n",
              "          element.innerHTML = '';\n",
              "          dataTable['output_type'] = 'display_data';\n",
              "          await google.colab.output.renderOutput(dataTable, element);\n",
              "          const docLink = document.createElement('div');\n",
              "          docLink.innerHTML = docLinkHtml;\n",
              "          element.appendChild(docLink);\n",
              "        }\n",
              "      </script>\n",
              "    </div>\n",
              "  </div>\n",
              "  "
            ]
          },
          "metadata": {},
          "execution_count": 133
        }
      ]
    },
    {
      "cell_type": "code",
      "source": [
        "test = test[\"Close\"]"
      ],
      "metadata": {
        "id": "2pNAKm52bzyY"
      },
      "execution_count": null,
      "outputs": []
    },
    {
      "cell_type": "code",
      "source": [
        "test"
      ],
      "metadata": {
        "colab": {
          "base_uri": "https://localhost:8080/"
        },
        "id": "C_6rS3kuuQqL",
        "outputId": "668e1d17-ae87-4fbc-b63a-dae687cdb031"
      },
      "execution_count": null,
      "outputs": [
        {
          "output_type": "execute_result",
          "data": {
            "text/plain": [
              "0      2521.600098\n",
              "1      2513.929932\n",
              "2      2527.040039\n",
              "3      2520.659912\n",
              "4      2513.929932\n",
              "          ...     \n",
              "248    2291.280029\n",
              "249    2340.209961\n",
              "250    2344.590088\n",
              "251    2344.760010\n",
              "252    2298.360107\n",
              "Name: Close, Length: 253, dtype: float64"
            ]
          },
          "metadata": {},
          "execution_count": 135
        }
      ]
    },
    {
      "cell_type": "code",
      "source": [
        "test.index + 1258"
      ],
      "metadata": {
        "colab": {
          "base_uri": "https://localhost:8080/"
        },
        "id": "feEBAHwfbpWY",
        "outputId": "00243a96-b50a-414d-a0e1-c7ca300a8948"
      },
      "execution_count": null,
      "outputs": [
        {
          "output_type": "execute_result",
          "data": {
            "text/plain": [
              "RangeIndex(start=1258, stop=1510, step=1)"
            ]
          },
          "metadata": {},
          "execution_count": 67
        }
      ]
    },
    {
      "cell_type": "code",
      "source": [
        "fc_series = pd.Series(fc)"
      ],
      "metadata": {
        "id": "XYsiUgYDZrQ8"
      },
      "execution_count": null,
      "outputs": []
    },
    {
      "cell_type": "code",
      "source": [
        "fc_series"
      ],
      "metadata": {
        "colab": {
          "base_uri": "https://localhost:8080/"
        },
        "id": "ilIe--tBmlvB",
        "outputId": "b244f70e-4f89-42ee-bc2b-9b4920ffd9c4"
      },
      "execution_count": null,
      "outputs": [
        {
          "output_type": "execute_result",
          "data": {
            "text/plain": [
              "1258    2496.025652\n",
              "1259    2493.970387\n",
              "1260    2489.556723\n",
              "1261    2493.657200\n",
              "1262    2490.971838\n",
              "           ...     \n",
              "1506    2495.550781\n",
              "1507    2495.550781\n",
              "1508    2495.550781\n",
              "1509    2495.550781\n",
              "1510    2495.550781\n",
              "Name: predicted_mean, Length: 253, dtype: float64"
            ]
          },
          "metadata": {},
          "execution_count": 147
        }
      ]
    },
    {
      "cell_type": "code",
      "source": [
        "#Plotting \n",
        "plt.figure(figsize=(10,6), dpi=100)\n",
        "plt.plot(df, label='training')\n",
        "plt.plot(test.index + 1258,test,label='actual')\n",
        "plt.plot(fc_series, label='forecast')\n",
        "plt.title('Forecast vs Actuals')\n",
        "plt.legend(loc='upper left', fontsize=8)\n",
        "plt.show()"
      ],
      "metadata": {
        "colab": {
          "base_uri": "https://localhost:8080/",
          "height": 536
        },
        "id": "8EsugAo9Z-_r",
        "outputId": "0d89543d-25b9-4576-83c2-e6520d19eb52"
      },
      "execution_count": null,
      "outputs": [
        {
          "output_type": "display_data",
          "data": {
            "text/plain": [
              "<Figure size 1000x600 with 1 Axes>"
            ],
            "image/png": "[encoded data removed]"
          },
          "metadata": {
            "needs_background": "light"
          }
        }
      ]
    }
  ]
}